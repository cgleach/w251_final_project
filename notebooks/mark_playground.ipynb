{
    "nbformat_minor": 1, 
    "cells": [
        {
            "execution_count": 300, 
            "cell_type": "code", 
            "metadata": {}, 
            "outputs": [], 
            "source": "import re\nimport ast\nimport time\nimport pprint\nimport numpy as np\nimport pandas as pd\nimport seaborn as sns\nimport matplotlib.pyplot as plt\nfrom collections import defaultdict"
        }, 
        {
            "execution_count": 2, 
            "cell_type": "code", 
            "metadata": {
                "scrolled": true
            }, 
            "outputs": [], 
            "source": "from pyspark.sql import SparkSession\napp_name = \"w251_final_project\"\n#master = \"local[*]\"\n\nspark = SparkSession\\\n        .builder\\\n        .appName(app_name)\\\n        .getOrCreate()\nsc = spark.sparkContext\n"
        }, 
        {
            "execution_count": null, 
            "cell_type": "code", 
            "metadata": {
                "scrolled": true
            }, 
            "outputs": [], 
            "source": "!ls data"
        }, 
        {
            "execution_count": 16, 
            "cell_type": "code", 
            "metadata": {}, 
            "outputs": [
                {
                    "output_type": "stream", 
                    "name": "stdout", 
                    "text": "Found 8 items\r\n-rw-r--r--   3 clsadmin bihdfs    9271615 2018-12-13 23:08 /data/ak/anchorage.csv\r\n-rw-r--r--   3 clsadmin bihdfs    2550877 2018-12-13 23:08 /data/ak/fairbanks_north_star_borough.csv\r\n-rw-r--r--   3 clsadmin bihdfs      67930 2018-12-13 23:08 /data/ak/haines.csv\r\n-rw-r--r--   3 clsadmin bihdfs    3443227 2018-12-13 23:08 /data/ak/kenai_peninsula_borough.csv\r\n-rw-r--r--   3 clsadmin bihdfs     608300 2018-12-13 23:08 /data/ak/ketchikan.csv\r\n-rw-r--r--   3 clsadmin bihdfs     308760 2018-12-13 23:08 /data/ak/kodiak_island_borough.csv\r\n-rw-r--r--   3 clsadmin bihdfs    4551210 2018-12-13 23:08 /data/ak/matanuska_susitna_borough.csv\r\n-rw-r--r--   3 clsadmin bihdfs      43542 2018-12-13 23:08 /data/ak/yakutat_borough.csv\r\n"
                }
            ], 
            "source": "!hdfs dfs -ls /data/ak"
        }, 
        {
            "execution_count": 8, 
            "cell_type": "code", 
            "metadata": {}, 
            "outputs": [
                {
                    "output_type": "stream", 
                    "name": "stdout", 
                    "text": "Found 1 items\r\ndrwxr-xr-x   - clsadmin biusers          0 2018-12-14 13:29 .sparkStaging\r\n"
                }
            ], 
            "source": "!hdfs dfs -ls"
        }, 
        {
            "execution_count": 11, 
            "cell_type": "code", 
            "metadata": {}, 
            "outputs": [], 
            "source": "# Can double start to get all states and all counties\ndf_full = spark.read.csv(\"/data/*/*\", header=True).persist()"
        }, 
        {
            "execution_count": 12, 
            "cell_type": "code", 
            "metadata": {}, 
            "outputs": [
                {
                    "execution_count": 12, 
                    "metadata": {}, 
                    "data": {
                        "text/plain": "Row(LON='-118.219827', LAT='34.0424273', NUMBER='421 1/2', STREET='S Boyle Ave', UNIT=None, CITY='Los Angeles', DISTRICT=None, REGION=None, POSTCODE='90033', ID=None, HASH='65bcee891066c9f3')"
                    }, 
                    "output_type": "execute_result"
                }
            ], 
            "source": "df_full.head()"
        }, 
        {
            "execution_count": 13, 
            "cell_type": "code", 
            "metadata": {}, 
            "outputs": [
                {
                    "execution_count": 13, 
                    "metadata": {}, 
                    "data": {
                        "text/plain": "pyspark.sql.dataframe.DataFrame"
                    }, 
                    "output_type": "execute_result"
                }
            ], 
            "source": "type(df_full)"
        }, 
        {
            "execution_count": 14, 
            "cell_type": "code", 
            "metadata": {}, 
            "outputs": [
                {
                    "output_type": "stream", 
                    "name": "stdout", 
                    "text": "root\n |-- LON: string (nullable = true)\n |-- LAT: string (nullable = true)\n |-- NUMBER: string (nullable = true)\n |-- STREET: string (nullable = true)\n |-- UNIT: string (nullable = true)\n |-- CITY: string (nullable = true)\n |-- DISTRICT: string (nullable = true)\n |-- REGION: string (nullable = true)\n |-- POSTCODE: string (nullable = true)\n |-- ID: string (nullable = true)\n |-- HASH: string (nullable = true)\n\n"
                }
            ], 
            "source": "df_full.printSchema()"
        }, 
        {
            "execution_count": 3, 
            "cell_type": "code", 
            "metadata": {}, 
            "outputs": [], 
            "source": "fullRDD = sc.textFile(\"/data/*/*\")# \\\n#             .map(lambda line: line.split(\",\"))"
        }, 
        {
            "execution_count": 4, 
            "cell_type": "code", 
            "metadata": {}, 
            "outputs": [
                {
                    "execution_count": 4, 
                    "metadata": {}, 
                    "data": {
                        "text/plain": "[u'LON,LAT,NUMBER,STREET,UNIT,CITY,DISTRICT,REGION,POSTCODE,ID,HASH',\n u'-149.4672014,61.4253086,22706,OAK KNOLL DR,,,,,99567,,d6285d518414f07e']"
                    }, 
                    "output_type": "execute_result"
                }
            ], 
            "source": "fullRDD.take(2)"
        }, 
        {
            "execution_count": 46, 
            "cell_type": "code", 
            "metadata": {}, 
            "outputs": [
                {
                    "output_type": "stream", 
                    "name": "stdout", 
                    "text": "... created a miniRDD of 151,307 records for testing.\n"
                }
            ], 
            "source": "# Generate 80/20 (pseudo)random train/test split\ntrainRDD, miniRDD = fullRDD.randomSplit([0.999,0.001], seed = 1)\nminiRDD.cache()\nprint(\"... created a miniRDD of {:,} records for testing.\".format(miniRDD.count()))"
        }, 
        {
            "execution_count": 19, 
            "cell_type": "code", 
            "metadata": {}, 
            "outputs": [], 
            "source": "miniRDD = fullRDD.takeSample(False, 100).cache()"
        }, 
        {
            "execution_count": 24, 
            "cell_type": "code", 
            "metadata": {}, 
            "outputs": [
                {
                    "execution_count": 24, 
                    "metadata": {}, 
                    "data": {
                        "text/plain": "pyspark.rdd.PipelinedRDD"
                    }, 
                    "output_type": "execute_result"
                }
            ], 
            "source": "type(miniRDD)"
        }, 
        {
            "source": "# Quick and Dirty Zip Code EDA - replaced by Clay", 
            "cell_type": "markdown", 
            "metadata": {}
        }, 
        {
            "execution_count": 47, 
            "cell_type": "code", 
            "metadata": {}, 
            "outputs": [], 
            "source": "def getUniqueZip(line):\n    #long, lat, house_num, street, unit, city, district, region, postcode, some_id, some_hash = line\n    \n    if len(line) != 11:\n        yield ('***empty', 1)\n    \n    elif line[8] == \"\":\n        yield ('***blank', 1)\n    else:\n        postcode_short = line[8]\n        yield (postcode_short, 1)\n\nuniqueRDD = miniRDD.map(lambda line: line.split(',')) \\\n                   .flatMap(getUniqueZip) \\\n                   .reduceByKey(lambda x, y: x+y).collect()\n"
        }, 
        {
            "execution_count": 86, 
            "cell_type": "code", 
            "metadata": {}, 
            "outputs": [
                {
                    "execution_count": 86, 
                    "metadata": {}, 
                    "data": {
                        "text/plain": "[('32680', 3),\n ('13780', 1),\n ('43123', 21),\n ('33603', 8),\n ('02494', 11),\n ('46745', 1),\n ('98005', 9),\n ('28054', 13),\n ('48084-2685', 1),\n ('97206', 51),\n ('11725', 5),\n ('19104-1417', 1),\n ('59868', 2),\n ('49348', 3),\n ('27591', 6),\n ('92319', 1),\n ('19134-3154', 1),\n ('62513', 2),\n ('35143', 4),\n ('01450', 8),\n ('96732', 3),\n ('47394', 7),\n ('80021', 32),\n ('57476', 1),\n ('27890', 1),\n ('20191', 27),\n ('27809', 2),\n ('46601', 1),\n ('14215 1905', 1),\n ('06051', 9),\n ('12966', 3),\n ('30303', 2),\n ('63134', 7),\n ('50169', 2),\n ('64064', 6),\n ('68152', 4),\n ('34475', 10),\n ('93906', 17),\n ('46181', 2),\n ('60563', 6),\n ('26205', 7),\n ('98223-6890', 1),\n ('93270', 4),\n ('13730', 2),\n ('32226', 18),\n ('54824', 3),\n ('14214 1208', 1),\n ('19146-1713', 1),\n ('60123', 23),\n ('27503', 6),\n ('33953', 29),\n ('78839', 1),\n ('20721', 23),\n ('98026-7065', 1),\n ('740555565', 1),\n ('19148-2609', 1),\n ('96782', 5),\n ('21659', 1),\n ('60487', 4),\n ('33572', 13),\n ('98632', 31),\n ('14227', 13),\n ('44875', 8),\n ('93721', 7),\n ('32266', 13),\n ('93442', 6),\n ('46920', 1),\n ('15217    ', 1),\n ('49461', 5),\n ('56248', 1),\n ('54552', 7),\n ('75126', 17),\n ('80015-3642', 1),\n ('44663', 9),\n ('76519', 1),\n ('25818', 3),\n ('53202-2823', 1),\n ('19121-2918', 1),\n ('19135-3209', 1),\n ('741335083', 1),\n ('57759', 1),\n ('43343', 3),\n ('33616', 5),\n ('45650', 1),\n ('60639', 11),\n ('35064', 3),\n ('33032', 14),\n ('08106', 7),\n ('28705', 3),\n ('54977', 3),\n ('76460', 1),\n ('98087', 1),\n ('48067', 37),\n ('77465', 1),\n ('43606', 29),\n ('46571', 5),\n ('04092', 8),\n ('93921', 2),\n ('90280', 23),\n ('79086', 2),\n ('21201', 4),\n ('25248', 3),\n ('19126-0000', 1),\n ('79057', 1),\n ('37419', 4),\n ('22401', 8),\n ('44871', 1),\n ('54984', 4),\n ('75032', 12),\n ('72602', 6),\n ('07058', 4),\n ('34957-4708', 1),\n ('98208-4606', 1),\n ('98008', 10),\n ('19131-3318', 1),\n ('32796', 15),\n ('77365', 1),\n ('92410', 7),\n ('78751', 3),\n ('80122-1753', 1),\n ('14006  ', 2),\n ('95118', 9),\n ('98548', 2),\n ('11937', 21),\n ('54466', 1),\n ('33179', 13),\n ('50208-2827', 1),\n ('24879', 1),\n ('44105', 17),\n ('33434', 13),\n ('15057    ', 1),\n ('43232', 28),\n ('28715', 33),\n ('49683', 2),\n ('14760', 13),\n ('07403', 5),\n ('98855', 2),\n ('80015-1947', 1),\n ('02723', 6),\n ('59832', 2),\n ('93563', 1),\n ('84042', 3),\n ('11719', 3),\n ('64055', 22),\n ('33330', 6),\n ('06424', 7),\n ('19115-0000', 3),\n ('46227', 30),\n ('98012-7864', 1),\n ('29163', 1),\n ('98037-5412', 1),\n ('32208', 30),\n ('98201-4468', 1),\n ('19137-1413', 1),\n ('12023', 1),\n ('02467', 9),\n ('27976', 1),\n ('14711', 1),\n ('54423', 2),\n ('98270-6412', 1),\n ('32445', 1),\n ('32424', 1),\n ('82053', 1),\n ('98037', 7),\n ('54660', 8),\n ('27979', 3),\n ('75076', 6),\n ('90027', 11),\n ('19134-2320', 1),\n ('90745', 15),\n ('19136-0000', 1),\n ('23693', 20),\n ('75448', 1),\n ('95630', 1),\n ('07932', 6),\n ('47223', 1),\n ('28392', 2),\n ('12935', 1),\n ('55719', 7),\n ('60827', 12),\n ('47265', 13),\n ('06790', 9),\n ('58012', 2),\n ('27017-8236', 1),\n ('02553', 1),\n ('46323', 17),\n ('98036-8324', 1),\n ('02556', 1),\n ('21223', 18),\n ('06033', 14),\n ('98296-7678', 1),\n ('14207 1602', 2),\n ('61752', 1),\n ('89052', 36),\n ('63133', 7),\n ('54435', 7),\n ('97487', 3),\n ('14519', 10),\n ('50126-2238', 1),\n ('46013', 21),\n ('93619', 3),\n ('98032', 15),\n ('23837', 5),\n ('94515', 1),\n ('59922', 4),\n ('60124', 6),\n ('75449', 2),\n ('90048', 6),\n ('46158', 7),\n ('98305', 1),\n ('232314849', 1),\n ('741127827', 1),\n ('43037', 1),\n ('08724', 21),\n ('28540', 22),\n ('232234952', 1),\n ('57718', 4),\n ('34210', 14),\n ('01080', 1),\n ('26034', 3),\n ('80524', 43),\n ('24271', 2),\n ('06018', 1),\n ('95966', 18),\n ('46259', 3),\n ('46219', 19),\n ('55303', 21),\n ('19118-3946', 1),\n ('40206', 15),\n ('06907', 6),\n ('43973', 6),\n ('44444', 9),\n ('27846', 1),\n ('95129', 9),\n ('07628', 10),\n ('48075', 23),\n ('61615', 14),\n ('53968', 1),\n ('60616', 8),\n ('11563', 11),\n ('85708', 1),\n ('23235', 19),\n ('33449', 1),\n ('50138-1902', 1),\n ('80014-1228', 1),\n ('84095', 14),\n ('97219', 38),\n ('07850', 4),\n ('13041', 6),\n ('46375', 25),\n ('53220', 14),\n ('85233', 7),\n ('21040', 17),\n ('94578', 11),\n ('232283201', 1),\n ('05478', 2),\n ('08080', 11),\n ('14225', 13),\n ('741142606', 1),\n ('19139-3913', 1),\n ('68462', 1),\n ('28644', 3),\n ('49270', 4),\n ('20854', 30),\n ('80110-5608', 1),\n ('21224', 31),\n ('33069', 8),\n ('98026-4308', 1),\n ('55305', 12),\n ('08312', 3),\n ('55713', 1),\n ('70770', 2),\n ('28202', 16),\n ('51006-9416', 1),\n ('94526', 10),\n ('21638', 3),\n ('14141  ', 1),\n ('54424', 2),\n ('35146', 3),\n ('33756', 15),\n ('79936', 8),\n ('45216', 7),\n ('19124-1367', 1),\n ('55076', 9),\n ('61569', 1),\n ('29080', 2),\n ('08807', 17),\n ('91746', 3),\n ('35613', 12),\n ('32181', 5),\n ('76471', 1),\n ('19134-5309', 1),\n ('04066', 2),\n ('46077', 13),\n ('55311', 15),\n ('45167', 1),\n ('98012-5819', 1),\n ('98037-3032', 1),\n ('80639', 1),\n ('01027', 10),\n ('20906', 47),\n ('50220', 1),\n ('81615', 1),\n ('96041', 3),\n ('33898', 5),\n ('24065', 4),\n ('27248', 3),\n ('64137', 4),\n ('60624', 7),\n ('12406', 1),\n ('01756', 2),\n ('19946', 3),\n ('35620', 4),\n ('28328', 13),\n ('50450-7435', 1),\n ('32570', 23),\n ('08846', 7),\n ('76502', 2),\n ('56442', 2),\n ('75143', 2),\n ('90037', 13),\n ('28704', 24),\n ('85296', 17),\n ('16674', 2),\n ('18405', 2),\n ('07444', 19),\n ('77015', 17),\n ('50228-8514', 1),\n ('47859', 1),\n ('24176', 2),\n ('731053204', 1),\n ('94086', 5),\n ('14226 1222', 1),\n ('59442', 2),\n ('832360000', 2),\n ('20036', 2),\n ('29040', 5),\n ('67146', 3),\n ('12770', 1),\n ('60126', 14),\n ('25193', 1),\n ('04292', 1),\n ('07063', 4),\n ('21919', 2),\n ('55433', 15),\n ('33708', 13),\n ('44644', 1),\n ('50036-4345', 1),\n ('25403', 4),\n ('08618', 8),\n ('01236', 1),\n ('60134', 16),\n ('39073', 11),\n ('79912', 4),\n ('49770', 8),\n ('14512', 3),\n ('10598', 16),\n ('67556', 1),\n ('54750', 2),\n ('75479', 1),\n ('13212', 6),\n ('29520', 7),\n ('32561', 4),\n ('54467', 8),\n ('07757', 1),\n ('98272-1904', 1),\n ('56571', 2),\n ('71360', 5),\n ('04655', 1),\n ('95073-9543', 1),\n ('75790', 1),\n ('02649', 12),\n ('14618', 8),\n ('19475', 5),\n ('62208     ', 3),\n ('83644', 6),\n ('33455-7371', 1),\n ('44032', 4),\n ('23456', 37),\n ('08048', 4),\n ('11520', 21),\n ('06762', 3),\n ('97703', 15),\n ('27235', 3),\n ('98240', 1),\n ('15215', 7),\n ('51460', 1),\n ('10538', 11),\n ('51250-1947', 1),\n ('78628', 36),\n ('21205', 4),\n ('12037', 4),\n ('84307', 2),\n ('46738', 4),\n ('54401', 10),\n ('89108', 1),\n ('27704', 39),\n ('13057', 5),\n ('01863', 5),\n ('43220', 17),\n ('78570', 1),\n ('93901', 10),\n ('43783', 3),\n ('46793', 1),\n ('51501-8549', 1),\n ('82240', 5),\n ('46319', 15),\n ('11958', 2),\n ('38016', 17),\n ('32736', 6),\n ('61605', 5),\n ('48051', 13),\n ('19975', 13),\n ('741156230', 1),\n ('98502', 15),\n ('76092', 10),\n ('20882', 12),\n ('52001', 21),\n ('23702', 5),\n ('54446', 1),\n ('19154-1808', 1),\n ('46076', 1),\n ('23661', 10),\n ('32773.0', 10),\n ('48313', 30),\n ('28441', 1),\n ('12775', 3),\n ('60070', 8),\n ('78941', 2),\n ('52136-1252', 1),\n ('37878', 2),\n ('77028', 16),\n ('70446', 3),\n ('21767', 2),\n ('70395', 5),\n ('01950', 13),\n ('30909', 31),\n ('08201', 2),\n ('99156', 12),\n ('46901', 21),\n ('95742.0', 6),\n ('01081', 1),\n ('90242', 3),\n ('57216', 2),\n ('29451', 4),\n ('44060', 23),\n ('22150', 21),\n ('56482', 6),\n ('26035', 2),\n ('51566-5081', 1),\n ('14043 1241', 1),\n ('32420', 2),\n ('28052', 17),\n ('53207-1327', 1),\n ('06107', 8),\n ('47038', 2),\n ('19146-1207', 1),\n ('95125', 10),\n ('23009', 3),\n ('13156', 1),\n ('55350.0', 1),\n ('43614', 23),\n ('46382', 1),\n ('98002', 12),\n ('90024', 6),\n ('53207-5905', 1),\n ('23321', 13),\n ('32206', 25),\n ('28729', 2),\n ('19301', 1),\n ('26146', 1),\n ('50263-9718', 1),\n ('46845', 18),\n ('44217', 3),\n ('76131', 6),\n ('47523', 1),\n ('99504', 16),\n ('53209-6742', 1),\n ('46390', 2),\n ('07432', 3),\n ('15132', 6),\n ('46783', 4),\n ('28454', 1),\n ('75024', 12),\n ('46991', 1),\n ('45891', 3),\n ('34747', 32),\n ('78732', 7),\n ('29644', 21),\n ('14710', 2),\n ('08824', 3),\n ('741337036', 1),\n ('14043 3040', 1),\n ('0-0000', 1),\n ('32725', 22),\n ('64120', 2),\n ('33458', 20),\n ('20714', 4),\n ('78121', 5),\n ('232295439', 1),\n ('60554', 3),\n ('53072', 28),\n ('59105', 18),\n ('97739', 7),\n ('07042', 6),\n ('232943504', 1),\n ('27409', 19),\n ('46151', 23),\n ('56339', 1),\n ('66097', 1),\n ('92352', 16),\n ('51546-1317', 1),\n ('15133', 2),\n ('19134-4422', 1),\n ('96791', 2),\n ('68130', 12),\n ('52101-7723', 1),\n ('12175', 1),\n ('77433', 58),\n ('76629', 2),\n ('57078', 8),\n ('12123', 3),\n ('30005', 10),\n ('29150', 22),\n ('84655', 4),\n ('47001', 4),\n ('77591', 2),\n ('29332', 2),\n ('54443', 2),\n ('53594', 2),\n ('93704', 15),\n ('04064', 4),\n ('20687', 2),\n ('46307', 36),\n ('60525', 12),\n ('12729', 2),\n ('60901', 12),\n ('47940', 1),\n ('19154-4321', 1),\n ('78733', 4),\n ('98813', 3),\n ('53941', 1),\n ('98606', 3),\n ('21113', 25),\n ('19135-2721', 1),\n ('50014-4022', 1),\n ('17352', 1),\n ('28670', 3),\n ('45327', 4),\n ('27864', 2),\n ('60035', 17),\n ('76458', 2),\n ('70501', 12),\n ('84129', 13),\n ('94803', 8),\n ('93562', 3),\n ('21090', 10),\n ('14202', 5),\n ('28787', 24),\n ('53920', 1),\n ('13033', 2),\n ('53225-4158', 1),\n ('55343', 12),\n ('98223-4026', 1),\n ('57362', 2),\n ('63043', 14),\n ('80012-3255', 1),\n ('97759', 5),\n ('74110', 2),\n ('43832', 4),\n ('51570-3304', 1),\n ('46407', 10),\n ('52333', 3),\n ('92254', 2),\n ('94595', 6),\n ('19966', 18),\n ('61606', 5),\n ('02808', 1),\n ('97477', 22),\n ('63140', 1),\n ('98201-1161', 1),\n ('20841', 1),\n ('50648-1104', 1),\n ('23231', 20),\n ('60958', 8),\n ('67151', 2),\n ('53012', 8),\n ('26206', 2),\n ('27944', 9),\n ('81654.0', 1),\n ('77627', 1),\n ('32569', 10),\n ('82243', 2),\n ('94619', 8),\n ('85224', 17),\n ('59522', 1),\n ('13905', 24),\n ('08221', 4),\n ('21669', 1),\n ('98270-4126', 1),\n ('13485', 2),\n ('23430', 5),\n ('23324', 9),\n ('231501218', 1),\n ('68105', 10),\n ('28306', 15),\n ('19152-3813', 1),\n ('97038', 2),\n ('25555', 3),\n ('02191', 4),\n ('76112', 13),\n ('91010', 7),\n ('32256', 44),\n ('46403', 15),\n ('12138', 2),\n ('57314', 1),\n ('20860', 2),\n ('25039', 1),\n ('81054', 1),\n ('26582', 6),\n ('44450', 1),\n ('61422', 2),\n ('231503200', 1),\n ('27928', 2),\n ('13417', 2),\n ('01949', 3),\n ('54873', 4),\n ('05341', 1),\n ('44867', 1),\n ('02814', 8),\n ('53202-1372', 1),\n ('48175', 1),\n ('55102', 17),\n ('52246', 11),\n ('33974', 77),\n ('57035', 1),\n ('98292', 4),\n ('11561', 10),\n ('55751', 1),\n ('80031', 1),\n ('64836', 1),\n ('83455', 3),\n ('17023', 1),\n ('80737', 2),\n ('67137', 3),\n ('82609', 10),\n ('20147', 25),\n ('50523-4013', 1),\n ('08536', 6),\n ('08742', 16),\n ('12743', 1),\n ('98020-5622', 1),\n ('51571-5058', 1),\n ('96140', 1),\n ('52235', 1),\n ('98201-1139', 1),\n ('47060', 2),\n ('50129-2002', 1),\n ('97436', 2),\n ('28174', 3),\n ('26430', 1),\n ('59714', 5),\n ('90015', 5),\n ('33455-3260', 1),\n ('50220-1151', 1),\n ('98223-5077', 1),\n ('51449-2125', 1),\n ('53224-2570', 1),\n ('91702', 15),\n ('07723', 3),\n ('30014    ', 15),\n ('19124-2407', 1),\n ('55405', 4),\n ('95713', 2),\n ('29582', 19),\n ('45410', 4),\n ('24340', 2),\n ('49349', 4),\n ('98043-5508', 1),\n ('35453', 4),\n ('46532', 2),\n ('46755', 3),\n ('53207-2086', 1),\n ('02347', 5),\n ('14472', 3),\n ('95589', 1),\n ('35401', 23),\n ('23894', 2),\n ('27939', 1),\n ('01540', 7),\n ('38109', 23),\n ('46950', 1),\n ('47352', 1),\n ('55454', 1),\n ('98683', 8),\n ('25311', 9),\n ('95833.0', 12),\n ('98830', 1),\n ('45114', 1),\n ('07088', 1),\n ('95076-3412', 1),\n ('52101-9584', 1),\n ('12567', 1),\n ('85388', 13),\n ('60649', 11),\n ('81221', 1),\n ('85626', 2),\n ('44609', 1),\n ('08829', 2),\n ('02127', 26),\n ('26264', 1),\n ('33063', 31),\n ('98326', 1),\n ('80215', 11),\n ('51503-7600', 1),\n ('28469', 4),\n ('45381', 4),\n ('50274-8821', 1),\n ('01230', 3),\n ('23831', 23),\n ('75092', 5),\n ('33613', 25),\n ('97203', 20),\n ('49418', 1),\n ('19130-3106', 1),\n ('37407', 1),\n ('02360', 43),\n ('90278', 10),\n ('92505', 18),\n ('60653', 7),\n ('80012-3334', 1),\n ('23420', 1),\n ('19132-2223', 1),\n ('50501-6019', 1),\n ('34788', 7),\n ('67035', 2),\n ('61603', 9),\n ('99009', 2),\n ('48071', 34),\n ('26679', 4),\n ('99361', 3),\n ('92404', 16),\n ('47951', 1),\n ('80103-9823', 1),\n ('50158-2748', 1),\n ('19134-1830', 1),\n ('33054', 7),\n ('23845', 2),\n ('98012-4809', 1),\n ('44730', 2),\n ('19131-4906', 1),\n ('32801  ', 1),\n ('33803', 13),\n ('35406', 6),\n ('19102-4505', 2),\n ('77014', 10),\n ('61853', 9),\n ('08802', 1),\n ('28110', 18),\n ('10990', 14),\n ('25882', 1),\n ('232271636', 1),\n ('19149-3009', 1),\n ('86440', 1),\n ('60558', 7),\n ('51601-4029', 1),\n ('14782', 1),\n ('33138', 4),\n ('10604', 8),\n ('32746', 18),\n ('33761', 12),\n ('60119', 4),\n ('19143-4909', 1),\n ('19134-2618', 1),\n ('19111-4225', 1),\n ('53203', 1),\n ('55073', 2),\n ('68504', 4),\n ('50677-3629', 1),\n ('34758', 24),\n ('21783', 3),\n ('78723', 9),\n ('44117', 2),\n ('10922', 1),\n ('31328', 3),\n ('13114', 3),\n ('24348', 9),\n ('47971', 2),\n ('47987', 2),\n ('95060-2639', 1),\n ('28789', 6),\n ('98203-6619', 1),\n ('28539', 5),\n ('48212', 34),\n ('06340', 22),\n ('43756', 4),\n ('59247', 1),\n ('77008', 32),\n ('98390', 4),\n ('19134-3139', 1),\n ('38125', 10),\n ('19128-2626', 1),\n ('55337', 21),\n ('92252', 13),\n ('28442', 3),\n ('70805', 15),\n ('63074', 9),\n ('43214', 16),\n ('50014-9000', 1),\n ('80226', 19),\n ('33015', 10),\n ('08854', 12),\n ('22213', 8),\n ('93535', 24),\n ('07065', 4),\n ('01702', 14),\n ('76634', 5),\n ('28510', 1),\n ('80113-3116', 1),\n ('70818', 4),\n ('38135', 16),\n ('80102', 1),\n ('59405', 9),\n ('92126', 26),\n ('27103', 41),\n ('29030', 2),\n ('33602', 10),\n ('44903', 13),\n ('47320', 1),\n ('32055', 1),\n ('10956', 17),\n ('13662', 7),\n ('59631', 1),\n ('04093', 2),\n ('84782', 1),\n ('59912', 7),\n ('21791', 5),\n ('32009', 3),\n ('02053', 6),\n ('11766', 8),\n ('59701', 13),\n ('46235', 21),\n ('80247-3500', 1),\n ('12746', 1),\n ('45631', 9),\n ('32462', 1),\n ('50548-8706', 1),\n ('42134', 1),\n ('18015', 2),\n ('60471', 2),\n ('80304', 25),\n ('35080', 9),\n ('59860', 5),\n ('22454', 1),\n ('92335', 21),\n ('33034', 7),\n ('76015', 3),\n ('92592', 27),\n ('66546', 1),\n ('14219 1806', 1),\n ('77070', 20),\n ('46041', 16),\n ('98208-3918', 1),\n ('98136', 2),\n ('11951', 5),\n ('77414', 14),\n ('53219-4045', 1),\n ('95405', 7),\n ('61011-9510', 1),\n ('60305', 4),\n ('19087', 5),\n ('11704', 18),\n ('46172', 2),\n ('54769', 1),\n ('50676-9502', 1),\n ('07885', 6),\n ('95073', 1),\n ('10524', 3),\n ('07068', 2),\n ('43748', 2),\n ('46550', 9),\n ('73401', 12),\n ('24104', 3),\n ('29691', 4),\n ('55044', 19),\n ('84716', 2),\n ('43571', 3),\n ('68022', 10),\n ('54437', 1),\n ('80112-6764', 1),\n ('77539', 20),\n ('35235', 14),\n ('08085', 10),\n ('13775', 1),\n ('01801  ', 1),\n ('78945', 12),\n ('01862', 10),\n ('94513', 27),\n ('55027', 1),\n ('47807', 5),\n ('32034', 46),\n ('27891', 4),\n ('07875', 2),\n ('55718', 1),\n ('46553', 1),\n ('44861', 1),\n ('48157', 1),\n ('47224', 2),\n ('60714', 13),\n ('97377', 1),\n ('08015', 13),\n ('80210', 2),\n ('18407', 9),\n ('33712', 24),\n ('740126400', 1),\n ('29642', 5),\n ('02132', 17),\n ('04785', 1),\n ('19146-2610', 1),\n ('29436', 7),\n ('92120', 13),\n ('26175', 2),\n ('48462', 13),\n ('56547', 2),\n ('97603', 8),\n ('98445', 15),\n ('32507', 20),\n ('60106', 5),\n ('741064639', 1),\n ('08648', 11),\n ('98033', 16),\n ('28422', 14),\n ('47355', 3),\n ('70769', 18),\n ('07727', 4),\n ('95060-2052', 1),\n ('63121', 14),\n ('08722', 7),\n ('63368', 11),\n ('32046', 6),\n ('60541', 2),\n ('02176', 13),\n ('19120-0000', 3),\n ('14004', 8),\n ('98075', 6),\n ('22408', 25),\n ('21146', 21),\n ('93460', 4),\n ('79019', 1),\n ('08251', 2),\n ('21117', 40),\n ('21051', 1),\n ('76857', 1),\n ('19149-1801', 1),\n ('46341     ', 4),\n ('14224 2574', 1),\n ('61602', 2),\n ('12442', 1),\n ('24577', 4),\n ('24565', 1),\n ('11776', 8),\n ('55021', 11),\n ('97070', 10),\n ('12546', 1),\n ('34990-6039', 1),\n ('78536', 1),\n ('25241', 1),\n ('77023', 18),\n ('93651', 2),\n ('01331', 3),\n ('98674', 7),\n ('94303', 6),\n ('44092', 8),\n ('67106', 1),\n ('44050', 2),\n ('22842', 4),\n ('32234', 5),\n ('60302', 12),\n ('46721', 4),\n ('50010-4255', 1),\n ('34610', 21),\n ('54447', 1),\n ('230597423', 1),\n ('92376', 19),\n ('52349-2336', 1),\n ('44125', 16),\n ('14216 2030', 1),\n ('71485', 1),\n ('04011', 14),\n ('44120', 14),\n ('98223-7867', 1),\n ('27958', 4),\n ('50563-5155', 1),\n ('20124', 12),\n ('44839', 4),\n ('13459', 1),\n ('99224', 3),\n ('07087', 5),\n ('24370', 5),\n ('14207 1115', 1),\n ...]"
                    }, 
                    "output_type": "execute_result"
                }
            ], 
            "source": "uniqueRDD"
        }, 
        {
            "execution_count": 58, 
            "cell_type": "code", 
            "metadata": {}, 
            "outputs": [], 
            "source": "zipCode = getUniqueZip(test)"
        }, 
        {
            "execution_count": 59, 
            "cell_type": "code", 
            "metadata": {}, 
            "outputs": [
                {
                    "output_type": "stream", 
                    "name": "stdout", 
                    "text": "('99577', 1)\n"
                }
            ], 
            "source": "print(zipCode)"
        }, 
        {
            "source": "# IRS File EDA", 
            "cell_type": "markdown", 
            "metadata": {}
        }, 
        {
            "execution_count": 48, 
            "cell_type": "code", 
            "metadata": {}, 
            "outputs": [], 
            "source": "irsRDD = sc.textFile(\"/data/tax_return_data.csv\").cache()"
        }, 
        {
            "execution_count": 305, 
            "cell_type": "code", 
            "metadata": {}, 
            "outputs": [
                {
                    "execution_count": 305, 
                    "metadata": {}, 
                    "data": {
                        "text/plain": "179797"
                    }, 
                    "output_type": "execute_result"
                }
            ], 
            "source": "irsRDD.count()"
        }, 
        {
            "execution_count": 92, 
            "cell_type": "code", 
            "metadata": {
                "scrolled": true
            }, 
            "outputs": [
                {
                    "execution_count": 92, 
                    "metadata": {}, 
                    "data": {
                        "text/plain": "['STATEFIPS,STATE,zipcode,agi_stub,N1,mars1,MARS2,MARS4,PREP,N2,NUMDEP,TOTAL_VITA,VITA,TCE,VITA_EIC,RAL,RAC,ELDERLY,A00100,N02650,A02650,N00200,A00200,N00300,A00300,N00600,A00600,N00650,A00650,N00700,A00700,N00900,A00900,N01000,A01000,N01400,A01400,N01700,A01700,SCHF,N02300,A02300,N02500,A02500,N26270,A26270,N02900,A02900,N03220,A03220,N03300,A03300,N03270,A03270,N03150,A03150,N03210,A03210,N03230,A03230,N03240,A03240,N04470,A04470,A00101,N17000,A17000,N18425,A18425,N18450,A18450,N18500,A18500,N18800,A18800,N18300,A18300,N19300,A19300,N19500,A19500,N19530,A19530,N19550,A19550,N19570,A19570,N19700,A19700,N20800,A20800,n21020,a21020,N04800,A04800,N05800,A05800,N09600,A09600,N05780,A05780,N07100,A07100,N07300,A07300,N07180,A07180,N07230,A07230,N07240,A07240,N07220,A07220,N07260,A07260,N09400,A09400,N85770,A85770,N85775,A85775,N09750,A09750,N10600,A10600,N59660,A59660,N59720,A59720,N11070,A11070,N10960,A10960,N11560,A11560,N06500,A06500,N10300,A10300,N85530,A85530,N85300,A85300,N11901,A11901,N11902,A11902',\n '1,AL,0,1,815440,477700,105350,221200,440830,1296920,491310,24730,16610,8130,5440,31550,225140,150920,10610343,815440,10787121,651680,8466376,90040,57551,42420,74527,38170,51048,11830,5328,144430,765184,34770,20594,38510,240402,104980,1038534,8310,22770,65220,37560,73490,7900,17497,145820,176778,1340,308,40,387,8630,32058,1730,5091,17110,14893,6620,18836,20,103,48600,699784,757559,34710,280423,18450,19585,22670,18822,22600,21511,25020,5950,46930,74541,20950,109734,190,563,330,150,2680,3326,200,142,36370,104574,17910,82471,400,2329,320790,1806830,325650,195415,0,0,18830,6579,101150,34290,1760,68,6620,2205,27490,15002,32490,5582,28940,8858,1140,471,113880,155301,54520,230494,56460,231566,18020,10199,755160,2119297,363420,1097024,333760,981026,229900,291625,61350,57108,28510,14474,254700,160665,367320,330066,0,0,0,0,63420,51444,711580,1831661',\n '1,AL,0,2,495830,211930,142340,128890,272440,996240,360480,10890,7100,3780,280,11770,118460,109680,17839904,495830,18020908,427840,14690098,89460,63622,39400,94307,35060,67289,47330,26083,65350,258861,31040,50118,36020,348074,100030,1812761,8920,15170,45546,91310,605042,10340,69499,96260,181004,14260,3476,90,1037,7570,37604,7300,24316,41490,43047,2340,5833,60,574,103560,1579761,3947654,47510,339474,74730,127434,25830,32861,66650,58178,64360,17611,102740,243301,60550,312252,1070,3508,1290,590,19320,23659,300,236,85920,337353,44430,292180,2290,14634,474930,8739820,473360,1067785,0,0,17200,13087,216450,191023,6320,291,30880,17180,43580,45248,77770,14984,122630,108314,12690,6759,38490,84581,24960,96905,27540,110068,21690,14515,485140,2062531,138800,291932,115640,245939,102530,144943,33880,30970,5140,4460,375320,877407,398050,984297,0,0,0,0,74090,110889,416090,1173463',\n '1,AL,0,3,263390,83420,137870,36340,154880,584000,182880,2480,1270,1210,0,150,41910,75570,16193076,263390,16351320,225610,12476022,80410,64816,38990,121115,35340,89415,58720,40132,41390,259064,31240,85650,29450,388970,73030,1836648,8470,7460,24614,63740,961406,11580,126140,69510,158244,8520,2146,190,1995,5530,35869,5340,22892,29110,31929,2150,4834,70,442,100110,1736214,6253051,29890,236177,80920,208782,17080,27736,78160,75404,68320,19479,99920,337719,71760,405379,1670,5677,2670,1568,21170,27432,690,660,85510,407422,37110,278272,2400,18992,262070,10338819,261500,1429944,40,96,4180,7590,113150,165544,9150,684,18100,9762,22780,29166,18710,2977,75270,113174,9740,5867,27370,68645,2400,8954,5780,22602,4510,4481,259650,1769024,70,24,20,7,9560,12495,16820,15588,0,0,249560,1264586,253180,1349246,0,0,0,0,64000,143060,195130,543284']"
                    }, 
                    "output_type": "execute_result"
                }
            ], 
            "source": "irsRDD.take(4)"
        }, 
        {
            "execution_count": 96, 
            "cell_type": "code", 
            "metadata": {}, 
            "outputs": [], 
            "source": "def getIRSZip(line):\n    if len(line[2]) < 5:\n        yield ('***blank', 1)\n    else:\n        yield (line[2], 1)"
        }, 
        {
            "execution_count": 99, 
            "cell_type": "code", 
            "metadata": {}, 
            "outputs": [], 
            "source": "irsZipRDD = irsRDD.map(lambda line: line.split(',')) \\\n                  .flatMap(getIRSZip) \\\n                  .reduceByKey(lambda x,y: x+y)"
        }, 
        {
            "execution_count": 100, 
            "cell_type": "code", 
            "metadata": {}, 
            "outputs": [
                {
                    "execution_count": 100, 
                    "metadata": {}, 
                    "data": {
                        "text/plain": "[('***blank', 14248),\n ('99999', 306),\n ('67056', 6),\n ('12451', 6),\n ('20755', 6),\n ('51548', 6),\n ('97754', 6),\n ('98537', 6),\n ('61333', 6),\n ('20155', 6)]"
                    }, 
                    "output_type": "execute_result"
                }
            ], 
            "source": "irsZipRDD.takeOrdered(10, key = lambda x: -x[1])"
        }, 
        {
            "execution_count": 102, 
            "cell_type": "code", 
            "metadata": {}, 
            "outputs": [
                {
                    "execution_count": 102, 
                    "metadata": {}, 
                    "data": {
                        "text/plain": "27551"
                    }, 
                    "output_type": "execute_result"
                }
            ], 
            "source": "irsZipRDD.count()"
        }, 
        {
            "source": "# Address EDA - Records and Lines", 
            "cell_type": "markdown", 
            "metadata": {}
        }, 
        {
            "execution_count": 250, 
            "cell_type": "code", 
            "metadata": {}, 
            "outputs": [], 
            "source": "statesCap = [\"AL\", \"AK\", \"AZ\", \"AR\", \"CA\", \"CO\", \"CT\", \"DC\", \"DE\", \"FL\", \"GA\", \"HI\", \"ID\", \"IL\", \"IN\", \"IA\", \"KS\", \"KY\", \"LA\", \"ME\", \"MD\", \"MA\", \"MI\", \"MN\", \"MS\", \"MO\", \"MT\", \"NE\", \"NV\", \"NH\", \"NJ\", \"NM\", \"NY\", \"NC\", \"ND\", \"OH\", \"OK\", \"OR\", \"PA\", \"RI\", \"SC\", \"SD\", \"TN\", \"TX\", \"UT\", \"VT\", \"VA\", \"WA\", \"WV\", \"WI\", \"WY\"]\nstates = [x.lower() for x in statesCap]"
        }, 
        {
            "execution_count": 251, 
            "cell_type": "code", 
            "metadata": {}, 
            "outputs": [], 
            "source": "hdfsPath = '/data/'\nlocalPath = '/home/wce/clsadmin/data/us/'"
        }, 
        {
            "execution_count": 252, 
            "cell_type": "code", 
            "metadata": {}, 
            "outputs": [], 
            "source": "# define holder variables\nstateCounties = defaultdict(str)\ntotalCounties = 0\nstateLines = defaultdict(int)\ntotalLines = 0\n\n# loop over the files\nfor state in states:\n    # define state file path\n    os.chdir(localPath + state + '/')\n    # get list of county files\n    counties = [doc for doc in os.listdir(\".\") if doc.endswith((\".csv\"))]\n    \n    stateCounties[state] = len(counties)\n    totalCounties += len(counties)\n    \n    # count the records in each file\n    for file in counties:\n        file_csv = localPath + state + '/' + file\n#         file_csv = file_csv + file\n        rowcount = len(open(file_csv).readlines())\n        stateLines[state] += rowcount\n        totalLines += rowcount"
        }, 
        {
            "execution_count": 253, 
            "cell_type": "code", 
            "metadata": {}, 
            "outputs": [], 
            "source": "avgLines = defaultdict(int)\n\nfor state in states:\n    avgLines[state] = int(stateLines[state] / stateCounties[state])"
        }, 
        {
            "execution_count": 257, 
            "cell_type": "code", 
            "metadata": {}, 
            "outputs": [
                {
                    "execution_count": 257, 
                    "metadata": {}, 
                    "data": {
                        "text/plain": "(27, 3150782)"
                    }, 
                    "output_type": "execute_result"
                }
            ], 
            "source": "meanCounties = sum(stateCounties.values()) / 51\nmeanLines = sum(stateLines.values()) /51\nmeanCounties, meanLines\n\n"
        }, 
        {
            "execution_count": 258, 
            "cell_type": "code", 
            "metadata": {}, 
            "outputs": [
                {
                    "execution_count": 258, 
                    "metadata": {}, 
                    "data": {
                        "text/plain": "(107490, 22444822)"
                    }, 
                    "output_type": "execute_result"
                }
            ], 
            "source": "min(stateLines.values()), max(stateLines.values())"
        }, 
        {
            "execution_count": 256, 
            "cell_type": "code", 
            "metadata": {}, 
            "outputs": [
                {
                    "execution_count": 256, 
                    "metadata": {}, 
                    "data": {
                        "text/plain": "(1394, 160689883)"
                    }, 
                    "output_type": "execute_result"
                }
            ], 
            "source": "totalCounties, totalLines"
        }, 
        {
            "execution_count": 45, 
            "cell_type": "code", 
            "metadata": {
                "scrolled": true
            }, 
            "outputs": [
                {
                    "output_type": "display_data", 
                    "data": {
                        "image/png": "[encoded data removed]", 
                        "text/plain": "<matplotlib.figure.Figure at 0x7f2504ae97d0>"
                    }, 
                    "metadata": {}
                }
            ], 
            "source": "data_set = [stateCounties, stateLines]\ntitles = ['County Files by State', 'Records by State']\nylables = ['Number of Files', 'Total Records']\nplt.figure(0, figsize=(20,20))\nfig = plt.figure(0)\n\nfor chart in range(2):\n    ax = fig.add_subplot(2,1,chart+1)\n    data = data_set[chart]\n    \n    # order values alphabetically\n    plot_data = []\n    for num in sorted(data.iterkeys()):\n        plot_data.append(data[num])\n\n    ax.bar(range(len(data)), plot_data, align='center', tick_label = statesCap)\n    ax.set_title(titles[chart])\n    plt.xlabel(\"States\")\n    plt.ylabel(ylables[chart])\nplt.show()"
        }, 
        {
            "execution_count": null, 
            "cell_type": "code", 
            "metadata": {}, 
            "outputs": [], 
            "source": "    if type(data) == int:\n        ax.bar(range(data), data, align='center')\n        ax.set_title(str(data))"
        }, 
        {
            "execution_count": 47, 
            "cell_type": "code", 
            "metadata": {
                "scrolled": true
            }, 
            "outputs": [
                {
                    "execution_count": 47, 
                    "metadata": {}, 
                    "data": {
                        "text/plain": "defaultdict(int,\n            {'ak': 35107,\n             'al': 67303,\n             'ar': 771340,\n             'az': 287402,\n             'ca': 234200,\n             'co': 114492,\n             'ct': 183693,\n             'dc': 147400,\n             'de': 167625,\n             'fl': 534400,\n             'ga': 42612,\n             'hi': 90090,\n             'ia': 15961,\n             'id': 36553,\n             'il': 88307,\n             'in': 390286,\n             'ks': 12713,\n             'ky': 63625,\n             'la': 53554,\n             'ma': 1806585,\n             'md': 312410,\n             'me': 690404,\n             'mi': 290901,\n             'mn': 40571,\n             'mo': 92260,\n             'ms': 46596,\n             'mt': 27106,\n             'nc': 104702,\n             'nd': 15119,\n             'ne': 13414,\n             'nh': 197210,\n             'nj': 645907,\n             'nm': 113078,\n             'nv': 131922,\n             'ny': 888844,\n             'oh': 64595,\n             'ok': 189434,\n             'or': 70212,\n             'pa': 82946,\n             'ri': 226136,\n             'sc': 70179,\n             'sd': 109545,\n             'tn': 227071,\n             'tx': 136392,\n             'ut': 331219,\n             'va': 118622,\n             'vt': 107490,\n             'wa': 99311,\n             'wi': 118956,\n             'wv': 210035,\n             'wy': 38888})"
                    }, 
                    "output_type": "execute_result"
                }
            ], 
            "source": "avgLines"
        }, 
        {
            "execution_count": null, 
            "cell_type": "code", 
            "metadata": {}, 
            "outputs": [], 
            "source": ""
        }, 
        {
            "execution_count": 28, 
            "cell_type": "code", 
            "metadata": {}, 
            "outputs": [
                {
                    "execution_count": 28, 
                    "metadata": {}, 
                    "data": {
                        "text/plain": "1394"
                    }, 
                    "output_type": "execute_result"
                }
            ], 
            "source": "totalCounties"
        }, 
        {
            "execution_count": 36, 
            "cell_type": "code", 
            "metadata": {
                "scrolled": true
            }, 
            "outputs": [
                {
                    "execution_count": 36, 
                    "metadata": {}, 
                    "data": {
                        "text/plain": "defaultdict(int,\n            {'ak': 280861,\n             'al': 1951792,\n             'ar': 1542681,\n             'az': 2874027,\n             'ca': 12646847,\n             'co': 4465221,\n             'ct': 1102163,\n             'dc': 147400,\n             'de': 502876,\n             'fl': 22444822,\n             'ga': 3749888,\n             'hi': 270272,\n             'ia': 877889,\n             'id': 657966,\n             'il': 4238764,\n             'in': 4293146,\n             'ks': 559390,\n             'ky': 1081639,\n             'la': 1606639,\n             'ma': 3613170,\n             'md': 4061337,\n             'me': 690404,\n             'mi': 5236227,\n             'mn': 2190873,\n             'mo': 1660690,\n             'ms': 559160,\n             'mt': 1545093,\n             'nc': 10889099,\n             'nd': 211677,\n             'ne': 1059719,\n             'nh': 591630,\n             'nj': 3875442,\n             'nm': 1583092,\n             'nv': 2110755,\n             'ny': 6221912,\n             'oh': 5813588,\n             'ok': 1136607,\n             'or': 2246802,\n             'pa': 4396142,\n             'ri': 452273,\n             'sc': 1894834,\n             'sd': 328637,\n             'tn': 2951926,\n             'tx': 13366448,\n             'ut': 1324879,\n             'va': 5456641,\n             'vt': 107490,\n             'wa': 2979347,\n             'wi': 4996173,\n             'wv': 1260211,\n             'wy': 583322})"
                    }, 
                    "output_type": "execute_result"
                }
            ], 
            "source": "stateLines"
        }, 
        {
            "source": "# Get Count of Missing Data Points by State", 
            "cell_type": "markdown", 
            "metadata": {}
        }, 
        {
            "execution_count": 75, 
            "cell_type": "code", 
            "metadata": {}, 
            "outputs": [], 
            "source": "def getBlanks(line):\n    if len(line) != 11:\n        yield ('***incomplete', 1)    \n    else:\n        fields = ['long', 'lat', 'house_num', 'street', 'unit', 'city', 'district', 'region', 'postcode', 'some_id', 'some_hash']\n        long, lat, house_num, street, unit, city, district, region, postcode, some_id, some_hash = line\n        blanks = 0\n        \n        state = bcState.value\n        \n        for i in range(len(line)):\n            if line[i] == \"\":\n                blanks += 1\n                yield (str(state) +'-'+ fields[i], 1)\n            \n        yield (state, blanks)"
        }, 
        {
            "execution_count": 73, 
            "cell_type": "code", 
            "metadata": {}, 
            "outputs": [], 
            "source": "test = bcState.value"
        }, 
        {
            "execution_count": 74, 
            "cell_type": "code", 
            "metadata": {}, 
            "outputs": [
                {
                    "execution_count": 74, 
                    "metadata": {}, 
                    "data": {
                        "text/plain": "'BC'"
                    }, 
                    "output_type": "execute_result"
                }
            ], 
            "source": "test"
        }, 
        {
            "execution_count": 150, 
            "cell_type": "code", 
            "metadata": {}, 
            "outputs": [], 
            "source": "test = 'bc'\nbcState = sc.broadcast(test)\n\nblanks = miniRDD.map(lambda line: line.split(',')) \\\n                          .flatMap(getBlanks) \\\n                          .reduceByKey(lambda x, y: x+y).collect()"
        }, 
        {
            "execution_count": 151, 
            "cell_type": "code", 
            "metadata": {
                "scrolled": true
            }, 
            "outputs": [
                {
                    "execution_count": 151, 
                    "metadata": {}, 
                    "data": {
                        "text/plain": "[('bc-postcode', 41510),\n ('bc-region', 94430),\n ('***incomplete', 413),\n ('bc-some_id', 120850),\n ('bc-street', 9424),\n ('bc-some_hash', 1634),\n ('bc-city', 53692),\n ('bc', 582675),\n ('bc-house_num', 11126),\n ('bc-district', 111357),\n ('bc-unit', 138652)]"
                    }, 
                    "output_type": "execute_result"
                }
            ], 
            "source": "blanks"
        }, 
        {
            "execution_count": 158, 
            "cell_type": "code", 
            "metadata": {}, 
            "outputs": [
                {
                    "execution_count": 158, 
                    "metadata": {}, 
                    "data": {
                        "text/plain": "{'***incomplete': 413,\n 'bc': 582675,\n 'bc-city': 53692,\n 'bc-district': 111357,\n 'bc-house_num': 11126,\n 'bc-postcode': 41510,\n 'bc-region': 94430,\n 'bc-some_hash': 1634,\n 'bc-some_id': 120850,\n 'bc-street': 9424,\n 'bc-unit': 138652}"
                    }, 
                    "output_type": "execute_result"
                }
            ], 
            "source": "tempDict = dict(blanks)\ntempDict"
        }, 
        {
            "execution_count": 159, 
            "cell_type": "code", 
            "metadata": {
                "scrolled": true
            }, 
            "outputs": [
                {
                    "execution_count": 159, 
                    "metadata": {}, 
                    "data": {
                        "text/plain": "{'***incomplete': 413,\n 'bc': 582675,\n 'bc-city': 53692,\n 'bc-district': 111357,\n 'bc-house_num': 11126,\n 'bc-postcode': 41510,\n 'bc-region': 94430,\n 'bc-some_hash': 1634,\n 'bc-some_id': 120850,\n 'bc-street': 9424,\n 'bc-unit': 138652}"
                    }, 
                    "output_type": "execute_result"
                }
            ], 
            "source": "tempDict"
        }, 
        {
            "execution_count": 248, 
            "cell_type": "code", 
            "metadata": {}, 
            "outputs": [], 
            "source": "check = {'bc-city': 53692,\n 'bc-district': 111357,\n 'bc-house_num': 11126,\n 'bc-postcode': 41510,\n 'bc-region': 94430,\n 'bc-some_hash': 1634,\n 'bc-some_id': 120850,\n 'bc-street': 9424,\n 'bc-unit': 138652}"
        }, 
        {
            "execution_count": 249, 
            "cell_type": "code", 
            "metadata": {}, 
            "outputs": [
                {
                    "execution_count": 249, 
                    "metadata": {}, 
                    "data": {
                        "text/plain": "582675"
                    }, 
                    "output_type": "execute_result"
                }
            ], 
            "source": "sum(check.values())"
        }, 
        {
            "execution_count": 160, 
            "cell_type": "code", 
            "metadata": {}, 
            "outputs": [
                {
                    "execution_count": 160, 
                    "metadata": {}, 
                    "data": {
                        "text/plain": "582675"
                    }, 
                    "output_type": "execute_result"
                }
            ], 
            "source": "tempDict['bc']"
        }, 
        {
            "execution_count": 156, 
            "cell_type": "code", 
            "metadata": {}, 
            "outputs": [], 
            "source": "state = 'bc'"
        }, 
        {
            "execution_count": 164, 
            "cell_type": "code", 
            "metadata": {
                "scrolled": true
            }, 
            "outputs": [
                {
                    "output_type": "stream", 
                    "name": "stdout", 
                    "text": "('***incomplete', 'bc', 'False')\n('bc', 'bc', 'True')\n('bc-unit', 'bc', 'False')\n('bc-city', 'bc', 'False')\n('bc-street', 'bc', 'False')\n('bc-postcode', 'bc', 'False')\n('bc-some_hash', 'bc', 'False')\n('bc-district', 'bc', 'False')\n('bc-some_id', 'bc', 'False')\n('bc-house_num', 'bc', 'False')\n('bc-region', 'bc', 'False')\n"
                }
            ], 
            "source": "stateBlanks =defaultdict(int)\nfor output in tempDict:\n    print(output, state, str(output==state))\n    if state == output:\n        stateBlanks[output] += tempDict[output]\n    elif '***incomplete' == output:\n        incompleteRecords[tempDict[output]] += tempDict[output]\n    else:\n        rawOutput.append(blanks)"
        }, 
        {
            "execution_count": 165, 
            "cell_type": "code", 
            "metadata": {}, 
            "outputs": [
                {
                    "execution_count": 165, 
                    "metadata": {}, 
                    "data": {
                        "text/plain": "defaultdict(int, {'bc': 582675})"
                    }, 
                    "output_type": "execute_result"
                }
            ], 
            "source": "stateBlanks"
        }, 
        {
            "execution_count": 82, 
            "cell_type": "code", 
            "metadata": {}, 
            "outputs": [
                {
                    "execution_count": 82, 
                    "metadata": {}, 
                    "data": {
                        "text/plain": "'montroe'"
                    }, 
                    "output_type": "execute_result"
                }
            ], 
            "source": "file_csv = 'montroe.csv'\ncounty_name = file_csv.split('.')[0]\ncounty_name"
        }, 
        {
            "execution_count": 265, 
            "cell_type": "code", 
            "metadata": {}, 
            "outputs": [
                {
                    "execution_count": 265, 
                    "metadata": {}, 
                    "data": {
                        "text/plain": "0"
                    }, 
                    "output_type": "execute_result"
                }
            ], 
            "source": "field"
        }, 
        {
            "execution_count": 271, 
            "cell_type": "code", 
            "metadata": {}, 
            "outputs": [
                {
                    "execution_count": 271, 
                    "metadata": {}, 
                    "data": {
                        "text/plain": "159264"
                    }, 
                    "output_type": "execute_result"
                }
            ], 
            "source": "check = {'al-city': 19908,\n 'al-district': 19908,\n 'al-house_num': 19908,\n 'al-postcode': 19908,\n 'al-region': 19908,\n 'al-some_id': 19908,\n 'al-street': 19908,\n 'al-unit': 19908}\n\nsum(check.values())"
        }, 
        {
            "execution_count": 274, 
            "cell_type": "code", 
            "metadata": {}, 
            "outputs": [
                {
                    "execution_count": 274, 
                    "metadata": {}, 
                    "data": {
                        "text/plain": "[('al-city', 19908),\n ('al-street', 19908),\n ('al-some_id', 19908),\n ('al-postcode', 19908),\n ('al-house_num', 19908),\n ('al-unit', 19908),\n ('al-district', 19908),\n ('al-region', 19908),\n ('al', 159264)]"
                    }, 
                    "output_type": "execute_result"
                }
            ], 
            "source": "blanks"
        }, 
        {
            "execution_count": 279, 
            "cell_type": "code", 
            "metadata": {}, 
            "outputs": [
                {
                    "output_type": "stream", 
                    "name": "stdout", 
                    "text": "al finished, in 0.0 seconds\nak finished, in 0.0 seconds\naz finished, in 0.0 seconds\nar finished, in 0.0 seconds\nca finished, in 0.0 seconds\nco finished, in 0.0 seconds\nct finished, in 0.0 seconds\ndc finished, in 0.0 seconds\nde finished, in 0.0 seconds\nfl finished, in 0.0 seconds\nga finished, in 0.0 seconds\nhi finished, in 0.0 seconds\nid finished, in 0.0 seconds\nil finished, in 0.0 seconds\nin finished, in 0.0 seconds\nia finished, in 0.0 seconds\nks finished, in 0.0 seconds\nky finished, in 0.0 seconds\nla finished, in 0.0 seconds\nme finished, in 0.0 seconds\nmd finished, in 0.0 seconds\nma finished, in 0.0 seconds\nmi finished, in 0.0 seconds\nmn finished, in 0.0 seconds\nms finished, in 0.0 seconds\nmo finished, in 0.0 seconds\nmt finished, in 0.0 seconds\nne finished, in 0.0 seconds\nnv finished, in 0.0 seconds\nnh finished, in 0.0 seconds\nnj finished, in 0.0 seconds\nnm finished, in 0.0 seconds\nny finished, in 0.0 seconds\nnc finished, in 0.0 seconds\nnd finished, in 0.0 seconds\noh finished, in 0.0 seconds\nok finished, in 0.0 seconds\nor finished, in 0.0 seconds\npa finished, in 0.0 seconds\nri finished, in 0.0 seconds\nsc finished, in 0.0 seconds\nsd finished, in 0.0 seconds\ntn finished, in 0.0 seconds\ntx finished, in 0.0 seconds\nut finished, in 0.0 seconds\nvt finished, in 0.0 seconds\nva finished, in 0.0 seconds\nwa finished, in 0.0 seconds\nwv finished, in 0.0 seconds\nwi finished, in 0.0 seconds\nwy finished, in 0.0 seconds\njob ran in 30.12 minutes.\n"
                }
            ], 
            "source": "start = time.time()\n\n# define holder variables\nstateBlanks = defaultdict(int)\nincompleteRecords = defaultdict(int)\nrawOutput = []\nmissingFields = defaultdict(int)\n\n# loop over the files\nfor state in states:\n    # create stateRDD to join with countyRDDs \n    stateRDD = sc.emptyRDD()  \n    bcState = sc.broadcast(state)\n    \n    # define state file path\n    os.chdir(localPath + state + '/')\n    # get list of county files\n    counties = [doc for doc in os.listdir(\".\") if doc.endswith((\".csv\"))]\n    \n    # count the records in each file\n    for file in counties:\n        blanks = []\n        #skip strange file\n        if file == '_loveland.csv':\n            continue\n        \n        file_csv = hdfsPath + state + '/' + file\n        countyRDD = sc.textFile(file_csv)\n        county_name = file_csv.split('.')[0]\n        bcCounty = sc.broadcast(county_name)\n        \n        blanks = countyRDD.map(lambda line: line.split(',')) \\\n                          .flatMap(getBlanks) \\\n                          .reduceByKey(lambda x, y: x+y).collect()\n        blanksDict = dict(blanks)\n        \n        # update state dictionary\n        for output in blanksDict:\n            if state == output:\n                stateBlanks[output] += blanksDict[output]\n            elif '***incomplete' == output:\n                incompleteRecords[output] += blanksDict[output]\n            else:\n                continue\n        \n        # capture blank information by field\n        for i in range(len(blanks)):\n            \n            if len(blanks[i][0]) == 2 or blanks[i][0] == '***incomplete':\n                continue\n            else:\n                key = blanks[i][0].split('-')[1]\n                value = blanks[i][1]\n                missingFields[key] += value\n        \n    interval = time.time()    \n    print(\"{} finished, in {} seconds\".format(state,round(interval - time.time(),5)))\nprint(\"job ran in {} minutes.\".format(round((time.time()-start)/60,2)))        "
        }, 
        {
            "execution_count": 170, 
            "cell_type": "code", 
            "metadata": {}, 
            "outputs": [
                {
                    "output_type": "stream", 
                    "name": "stdout", 
                    "text": "Total blanks:  583,177,870\n"
                }
            ], 
            "source": "print(\"Total blanks:  {:,}\".format(sum(stateBlanks.values())))"
        }, 
        {
            "execution_count": 174, 
            "cell_type": "code", 
            "metadata": {
                "scrolled": true
            }, 
            "outputs": [
                {
                    "output_type": "stream", 
                    "name": "stdout", 
                    "text": "Total records: 1,666,231,864\n"
                }
            ], 
            "source": "print(\"Total records: {:,}\".format(fullRDD.count() * 11))"
        }, 
        {
            "execution_count": 303, 
            "cell_type": "code", 
            "metadata": {}, 
            "outputs": [
                {
                    "output_type": "stream", 
                    "name": "stdout", 
                    "text": "Missing filds by type:  defaultdict(<type 'int'>, {'city': 53696018, 'district': 111468473, 'region': 94552512, 'some_hash': 1657047, 'street': 9334233, 'postcode': 41614986, 'some_id': 121112313, 'house_num': 11021073, 'unit': 138721215})\n"
                }
            ], 
            "source": "print(\"Missing filds by type:  {}\".format(missingFields))"
        }, 
        {
            "execution_count": 285, 
            "cell_type": "code", 
            "metadata": {
                "scrolled": true
            }, 
            "outputs": [
                {
                    "execution_count": 285, 
                    "metadata": {}, 
                    "data": {
                        "text/plain": "defaultdict(int,\n            {'city': 53696018,\n             'district': 111468473,\n             'house_num': 11021073,\n             'postcode': 41614986,\n             'region': 94552512,\n             'some_hash': 1657047,\n             'some_id': 121112313,\n             'street': 9334233,\n             'unit': 138721215})"
                    }, 
                    "output_type": "execute_result"
                }
            ], 
            "source": "missingFields"
        }, 
        {
            "execution_count": 304, 
            "cell_type": "code", 
            "metadata": {
                "scrolled": false
            }, 
            "outputs": [
                {
                    "output_type": "display_data", 
                    "data": {
                        "image/png": "[encoded data removed]", 
                        "text/plain": "<matplotlib.figure.Figure at 0x7f25048a1410>"
                    }, 
                    "metadata": {}
                }
            ], 
            "source": "lables = ['city',\n 'district',\n 'region',\n 'some_hash',\n 'street',\n 'postcode',\n 'some_id',\n 'house_num',\n 'unit']\nlables.sort()\n\nplt.figure(0, figsize=(10,10))\nfig = plt.figure(0)\n\n\nax = fig.add_subplot(1,1,1)\ndata = missingFields\n\n# order values alphabetically\nplot_data = []\nfor num in sorted(missingFields.iterkeys()):\n    plot_data.append(missingFields[num])\n\nax.bar(range(len(missingFields)), plot_data, align='center', tick_label = lables, color = ['c'])\nax.set_title('Blanks by Field Type')\nplt.xlabel(\"Field Names\")\nplt.ylabel(\"Blanks (in '000,000,000')\")\n\nplt.show()"
        }, 
        {
            "execution_count": 199, 
            "cell_type": "code", 
            "metadata": {
                "scrolled": true
            }, 
            "outputs": [
                {
                    "output_type": "display_data", 
                    "data": {
                        "image/png": "[encoded data removed]", 
                        "text/plain": "<matplotlib.figure.Figure at 0x7f24fb1f6910>"
                    }, 
                    "metadata": {}
                }
            ], 
            "source": "plt.figure(0, figsize=(20,20))\nfig = plt.figure(0)\n\n\nax = fig.add_subplot(2,1,chart+1)\ndata = data_set[chart]\n\n# order values alphabetically\nplot_data = []\nfor num in sorted(stateBlanks.iterkeys()):\n    plot_data.append(stateBlanks[num])\n\nax.bar(range(len(stateBlanks)), plot_data, align='center', tick_label = statesCap)\nax.set_title('Blanks by State')\nplt.xlabel(\"States\")\nplt.ylabel(\"Blanks (in '00,000')\")\n\nplt.show()"
        }, 
        {
            "execution_count": 196, 
            "cell_type": "code", 
            "metadata": {}, 
            "outputs": [
                {
                    "execution_count": 196, 
                    "metadata": {}, 
                    "data": {
                        "text/plain": "0.34999803004607527"
                    }, 
                    "output_type": "execute_result"
                }
            ], 
            "source": "empty = 583177870\ntotal = 1666231864\nfilled = total-empty\nempty/float(total)"
        }, 
        {
            "execution_count": 191, 
            "cell_type": "code", 
            "metadata": {}, 
            "outputs": [
                {
                    "execution_count": 191, 
                    "metadata": {}, 
                    "data": {
                        "text/plain": "[583177870, 1083053994, 1666231864]"
                    }, 
                    "output_type": "execute_result"
                }
            ], 
            "source": "data"
        }, 
        {
            "execution_count": 203, 
            "cell_type": "code", 
            "metadata": {
                "scrolled": false
            }, 
            "outputs": [
                {
                    "output_type": "display_data", 
                    "data": {
                        "image/png": "[encoded data removed]", 
                        "text/plain": "<matplotlib.figure.Figure at 0x7f2504495310>"
                    }, 
                    "metadata": {}
                }
            ], 
            "source": "empty = 583177870\ntotal = 1666231864\nfilled = total-empty\n\nplt.figure(0, figsize=(10,10))\nfig = plt.figure(0)\nax = fig.add_subplot(1,1,1)\ndata = [empty, filled, total]\n\nax.bar(range(len(data)), data, align='center', tick_label = ['empty', 'filled', 'total'], color = ['red', 'green', 'blue'])\nax.set_title('Data Completness')\n#plt.xlabel(\"States\")\nplt.ylabel(\"in '000,000,000')\")\n\nplt.show()\n\n# plt.figure(0, figsize=(20,20))\n# fig = plt.figure(0)\n\n\n# ax = fig.add_subplot(2,1,chart+1)\n# data = data_set[chart]\n\n"
        }, 
        {
            "execution_count": 211, 
            "cell_type": "code", 
            "metadata": {
                "scrolled": false
            }, 
            "outputs": [
                {
                    "execution_count": 211, 
                    "metadata": {}, 
                    "data": {
                        "text/plain": "[('al-city', 10504),\n ('al-street', 287),\n ('al-some_id', 10504),\n ('al-postcode', 10504),\n ('***incomplete', 13),\n ('al-district', 10504),\n ('al', 65327),\n ('al-house_num', 2016),\n ('al-unit', 10504),\n ('al-region', 10504)]"
                    }, 
                    "output_type": "execute_result"
                }
            ], 
            "source": "rawOutput[2]"
        }, 
        {
            "execution_count": 224, 
            "cell_type": "code", 
            "metadata": {}, 
            "outputs": [
                {
                    "execution_count": 224, 
                    "metadata": {}, 
                    "data": {
                        "text/plain": "1393"
                    }, 
                    "output_type": "execute_result"
                }
            ], 
            "source": "len(rawOutput)"
        }, 
        {
            "execution_count": 230, 
            "cell_type": "code", 
            "metadata": {}, 
            "outputs": [
                {
                    "execution_count": 230, 
                    "metadata": {}, 
                    "data": {
                        "text/plain": "'postcode'"
                    }, 
                    "output_type": "execute_result"
                }
            ], 
            "source": "rawOutput[2][3][0].split('-')[1]"
        }, 
        {
            "execution_count": 237, 
            "cell_type": "code", 
            "metadata": {}, 
            "outputs": [
                {
                    "execution_count": 237, 
                    "metadata": {}, 
                    "data": {
                        "text/plain": "2"
                    }, 
                    "output_type": "execute_result"
                }
            ], 
            "source": "len(rawOutput[2][6][0])"
        }, 
        {
            "execution_count": 217, 
            "cell_type": "code", 
            "metadata": {}, 
            "outputs": [
                {
                    "execution_count": 217, 
                    "metadata": {}, 
                    "data": {
                        "text/plain": "287"
                    }, 
                    "output_type": "execute_result"
                }
            ], 
            "source": "rawOutput[2][1][1]"
        }, 
        {
            "execution_count": 276, 
            "cell_type": "code", 
            "metadata": {}, 
            "outputs": [], 
            "source": "missingFields = defaultdict(int)\nfor i in range(len(rawOutput)):\n    for field in range(len(rawOutput[i])):\n        if len(rawOutput[i][field][0]) == 2 or rawOutput[i][field][0] == '***incomplete':\n            continue\n        else:\n            key = rawOutput[i][field][0].split('-')[1]\n            value = rawOutput[i][1][1]\n            missingFields[key] += value"
        }, 
        {
            "execution_count": 277, 
            "cell_type": "code", 
            "metadata": {}, 
            "outputs": [
                {
                    "execution_count": 277, 
                    "metadata": {}, 
                    "data": {
                        "text/plain": "defaultdict(int, {})"
                    }, 
                    "output_type": "execute_result"
                }
            ], 
            "source": "missingFields"
        }, 
        {
            "execution_count": 278, 
            "cell_type": "code", 
            "metadata": {
                "scrolled": true
            }, 
            "outputs": [
                {
                    "output_type": "stream", 
                    "name": "stdout", 
                    "text": "0\n"
                }
            ], 
            "source": "print(\"{:,}\".format(sum(missingFields.values())))"
        }, 
        {
            "execution_count": 242, 
            "cell_type": "code", 
            "metadata": {}, 
            "outputs": [
                {
                    "execution_count": 242, 
                    "metadata": {}, 
                    "data": {
                        "text/plain": "defaultdict(int, {'***incomplete': 391878})"
                    }, 
                    "output_type": "execute_result"
                }
            ], 
            "source": "incompleteRecords"
        }, 
        {
            "source": "# Data Load to HDFS", 
            "cell_type": "markdown", 
            "metadata": {}
        }, 
        {
            "execution_count": null, 
            "cell_type": "code", 
            "metadata": {}, 
            "outputs": [], 
            "source": "import os\nimport time\nimport subprocess\nfrom collections import defaultdict\n\n# define flie locations\nhdfsPath = '/data/'\nlocalPath = '/home/wce/clsadmin/data/us/'\nirsPath = '/home/wce/clsadmin/data/tax_return_data.csv' # includes file name\n\n# define state list\nstatesCap = [\"AL\", \"AK\", \"AZ\", \"AR\", \"CA\", \"CO\", \"CT\", \"DC\", \"DE\", \"FL\", \"GA\", \"HI\", \"ID\", \"IL\", \"IN\", \"IA\", \"KS\", \"KY\", \"LA\", \"ME\", \"MD\", \"MA\", \"MI\", \"MN\", \"MS\", \"MO\", \"MT\", \"NE\", \"NV\", \"NH\", \"NJ\", \"NM\", \"NY\", \"NC\", \"ND\", \"OH\", \"OK\", \"OR\", \"PA\", \"RI\", \"SC\", \"SD\", \"TN\", \"TX\", \"UT\", \"VT\", \"VA\", \"WA\", \"WV\", \"WI\", \"WY\"]\nstates = [x.lower() for x in statesCap]\n\n# define HDFS command function\ndef run_cmd(args_list, verbose = False):\n    if verbose == True:\n        print('Running system command: {0}'.format(' '.join(args_list)))\n    proc = subprocess.Popen(args_list, stdout=subprocess.PIPE, stderr=subprocess.PIPE)\n    s_output, s_err = proc.communicate()\n    s_return = proc.returncode\n    return s_return, s_output, s_err\n\n# build directry structre in HDFS\nstart = time.time()\nstateFiles = 0\n(ret, out, err) = run_cmd(['hdfs', 'dfs', '-mkdir', hdfsPath])\nfor state in states:\n    location = hdfsPath + state + '/'\n    (ret, out, err) = run_cmd(['hdfs', 'dfs', '-mkdir', location])\n    stateFiles +=1\nprint(\"Created {} subfolders in hdfs dfs {}\".format(stateFiles, hdfsPath))\nprint(\"Directory took {} minutes\".format(round((time.time()-start)/60,2)))\n\n# upload IRS data file\n(ret, out, err) = run_cmd(['hdfs', 'dfs', '-put', irsPath, hdfsPath])\nprint(\"Added IRS data file to {}\".format(hdfsPath))\n\nstart = time.time()\ntotFiles = 0\nstateSummary = defaultdict(int)\n\n# get county name list of .csv files\nfor state in states:\n    # define state file path\n    os.chdir(localPath + state + '/')\n    # get list of county files\n    counties = [doc for doc in os.listdir(\".\") if doc.endswith((\".csv\"))]\n\n    for file in counties:\n        # define file location\n        hdfsLoc = hdfsPath + state + '/' + file\n        fileLoc = localPath + state + '/' + file\n\n        # Run Hadoop put command in Python\n        (ret, out, err) = run_cmd(['hdfs', 'dfs', '-put', fileLoc, hdfsLoc])\n        totFiles += 1\n        stateSummary[state] += 1\n\n    print(\"Completed {}\".format(state))\n    #print(counties)\n    # path = \"/root/final_projects/us\"os.chdir(path)YY = [doc for doc in os.listdir() if (doc.endswith((\".csv\"))\n\n\nprint(\"Files loaded in {} minutes\".format(round((time.time()-start)/60,2)))\nprint(\"Total files:  {}\".format(totFiles))\nprint(\"State Check:  {}.  Should be 51\".format(len(stateSummary)))\nprint(\"Files by State:  {}\".format(stateSummary))"
        }, 
        {
            "execution_count": null, 
            "cell_type": "code", 
            "metadata": {}, 
            "outputs": [], 
            "source": ""
        }
    ], 
    "metadata": {
        "kernelspec": {
            "display_name": "Python 2.7 with Spark 2.3 (YARN Client Mode)", 
            "name": "python2-spark23", 
            "language": "python"
        }, 
        "language_info": {
            "mimetype": "text/x-python", 
            "nbconvert_exporter": "python", 
            "version": "2.7.13", 
            "name": "python", 
            "file_extension": ".py", 
            "pygments_lexer": "ipython2", 
            "codemirror_mode": {
                "version": 2, 
                "name": "ipython"
            }
        }
    }, 
    "nbformat": 4
}